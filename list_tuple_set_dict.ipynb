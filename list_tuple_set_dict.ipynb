{
  "nbformat": 4,
  "nbformat_minor": 0,
  "metadata": {
    "colab": {
      "provenance": [],
      "collapsed_sections": [
        "CKN_PA1IEjOi",
        "VKQieVCzcW9f",
        "u2AhoyqG8SFs"
      ],
      "authorship_tag": "ABX9TyMTIpa4ELjH6jTta8bGg+UL",
      "include_colab_link": true
    },
    "kernelspec": {
      "name": "python3",
      "display_name": "Python 3"
    },
    "language_info": {
      "name": "python"
    }
  },
  "cells": [
    {
      "cell_type": "markdown",
      "metadata": {
        "id": "view-in-github",
        "colab_type": "text"
      },
      "source": [
        "<a href=\"https://colab.research.google.com/github/eswar554/first_work_progress/blob/main/list_tuple_set_dict.ipynb\" target=\"_parent\"><img src=\"https://colab.research.google.com/assets/colab-badge.svg\" alt=\"Open In Colab\"/></a>"
      ]
    },
    {
      "cell_type": "markdown",
      "source": [
        "**Data Structures**\n",
        "\n",
        "Data Structures allow us to store and organize data efficiently.This will allow us to easily access and perform operations on the data.\n",
        "\n",
        "In Python, there are four built-in data structures\n",
        "*  List\n",
        "*  Tuple\n",
        "*  Set\n",
        "*  Dictionary"
      ],
      "metadata": {
        "id": "CGta_PDpByxT"
      }
    },
    {
      "cell_type": "markdown",
      "source": [
        "**List**\n",
        "List is the most versatile python data structure.\n",
        "Holds an ordered sequence of items.\n",
        "\n",
        "A **list** in Python is a mutable, ordered collection that can hold a variety of data types, including integers, strings, floats, and even other lists. It allows duplicate elements and supports indexing, slicing, and various methods for manipulation like appending, inserting, or removing items. Lists are defined using square brackets `[]`, with elements separated by commas.\n",
        "\n",
        "\n",
        "### **List Methods:**\n",
        "1. **`append(item)`**: Adds an item to the end of the list.\n",
        "2. **`extend(iterable)`**: Extends the list by appending elements from another iterable.\n",
        "3. **`insert(index, item)`**: Inserts an item at the specified index.\n",
        "4. **`remove(item)`**: Removes the first occurrence of the specified item.\n",
        "5. **`pop(index)`**: Removes and returns the item at the specified index (default is the last item).\n",
        "6. **`clear()`**: Removes all elements from the list.\n",
        "7. **`index(item, start, end)`**: Returns the index of the first occurrence of the specified item.\n",
        "8. **`count(item)`**: Returns the count of the specified item in the list.\n",
        "9. **`sort(key=None, reverse=False)`**: Sorts the list in ascending order (modifies the list in place).\n",
        "10. **`reverse()`**: Reverses the order of the list (in place).\n",
        "11. **`copy()`**: Returns a shallow copy of the list.\n",
        "\n",
        "### **Built-in Functions for Lists:**\n",
        "1. **`len(list)`**: Returns the number of items in the list.\n",
        "2. **`max(list)`**: Returns the largest item in the list.\n",
        "3. **`min(list)`**: Returns the smallest item in the list.\n",
        "4. **`sum(list)`**: Returns the sum of the elements (for numeric lists).\n",
        "5. **`sorted(list, key=None, reverse=False)`**: Returns a new sorted list without modifying the original.\n",
        "6. **`list(iterable)`**: Converts an iterable (like a string, tuple, or range) into a list.\n",
        "7. **`any(list)`**: Returns `True` if at least one element is truthy.\n",
        "8. **`all(list)`**: Returns `True` if all elements are truthy."
      ],
      "metadata": {
        "id": "xvmrVUSbCaUC"
      }
    },
    {
      "cell_type": "markdown",
      "source": [
        "### **Five simple and meaning full example in python list**\n",
        "\n",
        "```\n",
        "# This is formatted as code\n",
        "```\n",
        "\n",
        "**1. Create and Print list**"
      ],
      "metadata": {
        "id": "CKN_PA1IEjOi"
      }
    },
    {
      "cell_type": "code",
      "source": [
        "n = int(input(\"Enter your custom list range : \"))\n",
        "list1 = []\n",
        "for i in range(n):\n",
        "    new = input()\n",
        "    list1 += [new]\n",
        "print(list1)"
      ],
      "metadata": {
        "colab": {
          "base_uri": "https://localhost:8080/"
        },
        "id": "15b1-wzrDt31",
        "outputId": "8d8ff455-a465-43f8-ac9b-970943f1bddb"
      },
      "execution_count": 5,
      "outputs": [
        {
          "output_type": "stream",
          "name": "stdout",
          "text": [
            "Enter your custom list range : 3\n",
            "4\n",
            "3\n",
            "2\n",
            "['4', '3', '2']\n"
          ]
        }
      ]
    },
    {
      "cell_type": "markdown",
      "source": [
        "**2.Greater than N the elements in list that are greater an N**"
      ],
      "metadata": {
        "id": "Yszk-LNwGjBC"
      }
    },
    {
      "cell_type": "code",
      "source": [
        "num_list = [1, 6, 32, 93, 71, -20, 30, -90, 50]\n",
        "# Write your code here\n",
        "n = int(input(\"the element that you need to compare:\"))\n",
        "new_list = []\n",
        "for i in range(len(num_list)):\n",
        "    if n < num_list[i]:\n",
        "        new_list += [num_list[i]]\n",
        "print(new_list)"
      ],
      "metadata": {
        "colab": {
          "base_uri": "https://localhost:8080/"
        },
        "id": "yabG4rdPE2ON",
        "outputId": "1b10de27-412d-45d4-bda5-84ffbf62f4c0"
      },
      "execution_count": 7,
      "outputs": [
        {
          "output_type": "stream",
          "name": "stdout",
          "text": [
            "the element that you need to compare:3\n",
            "[6, 32, 93, 71, 30, 50]\n"
          ]
        }
      ]
    },
    {
      "cell_type": "markdown",
      "source": [
        "**3. First and Last element of the list**"
      ],
      "metadata": {
        "id": "PeOGb17EHqGT"
      }
    },
    {
      "cell_type": "code",
      "source": [
        "number = input(\"Size of the list the should be greater than 4 :\")\n",
        "new_list = []\n",
        "for i in range(number):\n",
        "    new_input = input()\n",
        "    if i < 2:\n",
        "        new_list += [new_input]\n",
        "    if (number-2) <= i:\n",
        "        new_list += [new_input]\n",
        "print(new_list)"
      ],
      "metadata": {
        "colab": {
          "base_uri": "https://localhost:8080/"
        },
        "id": "2fkns3dvHW3u",
        "outputId": "9231a36a-9009-4366-96f1-226744b5d923"
      },
      "execution_count": 9,
      "outputs": [
        {
          "output_type": "stream",
          "name": "stdout",
          "text": [
            "Size of the list the should be greater than 4 :5\n",
            "asd\n",
            "asd\n",
            "dfg\n",
            "dfb\n",
            "vvf\n",
            "['asd', 'asd', 'dfb', 'vvf']\n"
          ]
        }
      ]
    },
    {
      "cell_type": "code",
      "source": [
        "number = int(input(\"Size of the list the should be greater than 4 :\"))\n",
        "new_list = []\n",
        "for i in range(number):\n",
        "    new_item = input()\n",
        "    new_list += [new_item]\n",
        "print(new_list[:1]+new_list[number-1:])"
      ],
      "metadata": {
        "colab": {
          "base_uri": "https://localhost:8080/"
        },
        "id": "SJcSIVdTIi2O",
        "outputId": "4f962bec-f4ce-45ca-d9f1-eff5c97b320e"
      },
      "execution_count": 19,
      "outputs": [
        {
          "output_type": "stream",
          "name": "stdout",
          "text": [
            "Size of the list the should be greater than 4 :6\n",
            "wef\n",
            "sdf\n",
            "tyh\n",
            "asd\n",
            "rth\n",
            "dv\n",
            "['wef', 'dv']\n"
          ]
        }
      ]
    },
    {
      "cell_type": "markdown",
      "source": [
        "**4. Divisible by 5**"
      ],
      "metadata": {
        "id": "jbR28LD5KiFw"
      }
    },
    {
      "cell_type": "code",
      "source": [
        "n = int(input(\"Size of the list :\"))\n",
        "new_list = []\n",
        "for i in range(n):\n",
        "    new = int(input())\n",
        "    if new % 5 == 0:\n",
        "        new_list += [new]\n",
        "print(new_list)"
      ],
      "metadata": {
        "colab": {
          "base_uri": "https://localhost:8080/"
        },
        "id": "y_pvV5hvKy-8",
        "outputId": "53d35dcd-e402-42de-b718-9c362601c2ab"
      },
      "execution_count": 20,
      "outputs": [
        {
          "output_type": "stream",
          "name": "stdout",
          "text": [
            "Size of the list :5\n",
            "23\n",
            "45\n",
            "77\n",
            "55\n",
            "15\n",
            "[45, 55, 15]\n"
          ]
        }
      ]
    },
    {
      "cell_type": "markdown",
      "source": [
        "**5. Reversing the list**"
      ],
      "metadata": {
        "id": "ltEwuYqRMNCf"
      }
    },
    {
      "cell_type": "code",
      "source": [
        "N = int(input(\"Size of the list :\"))\n",
        "new_list = []\n",
        "for i in range(N):\n",
        "    new_item = input()\n",
        "    new_list += [new_item]\n",
        "print(\"printing after reversing\")\n",
        "for i in range(N):\n",
        "    print(new_list[N-i-1])\n",
        "print(\"Using reverse method\",list(reversed(new_list)))"
      ],
      "metadata": {
        "colab": {
          "base_uri": "https://localhost:8080/"
        },
        "id": "fYb-YUm1K3wg",
        "outputId": "71ad6d91-c3f6-4583-f375-9c20f6d18327"
      },
      "execution_count": 24,
      "outputs": [
        {
          "output_type": "stream",
          "name": "stdout",
          "text": [
            "Size of the list :5\n",
            "asd\n",
            "hhh\n",
            "erg\n",
            "rthrhrt\n",
            "htrhtrhtr\n",
            "printing after reversing\n",
            "htrhtrhtr\n",
            "rthrhrt\n",
            "erg\n",
            "hhh\n",
            "asd\n",
            "['htrhtrhtr', 'rthrhrt', 'erg', 'hhh', 'asd']\n"
          ]
        }
      ]
    },
    {
      "cell_type": "markdown",
      "source": [
        "### **Tuple**\n",
        "A **tuple** in Python is an immutable, ordered collection of items that can hold elements of mixed data types, including integers, strings, floats, or even other tuples. Once created, the elements of a tuple cannot be modified, added, or removed, making them useful for storing fixed data. Tuples are defined using parentheses `()` with elements separated by commas. They are memory-efficient and support indexing, slicing, and various operations similar to lists.\n",
        "\n",
        "\n",
        "---\n",
        "\n",
        "\n",
        "### **Tuple Methods:**\n",
        "\n",
        "1. **`count(item)`**: Returns the number of occurrences of a specified item in the tuple.\n",
        "2. **`index(item)`**: Returns the index of the first occurrence of a specified item in the tuple.\n",
        "\n",
        "---\n",
        "\n",
        "### **Built-in Functions for Tuples:**\n",
        "\n",
        "1. **`len(tuple)`**: Returns the number of elements in the tuple.\n",
        "2. **`max(tuple)`**: Returns the largest element in the tuple (for comparable elements).\n",
        "3. **`min(tuple)`**: Returns the smallest element in the tuple (for comparable elements).\n",
        "4. **`sum(tuple)`**: Returns the sum of elements in the tuple (for numeric elements).\n",
        "5. **`sorted(tuple)`**: Returns a sorted list of elements from the tuple.\n",
        "6. **`tuple(iterable)`**: Converts an iterable (like a list or string) into a tuple.\n",
        "7. **`any(tuple)`**: Returns `True` if at least one element in the tuple is truthy.\n",
        "8. **`all(tuple)`**: Returns `True` if all elements in the tuple are truthy."
      ],
      "metadata": {
        "id": "91ywkvYXQbYM"
      }
    },
    {
      "cell_type": "markdown",
      "source": [
        "### **Five simple and meaning full example in python Tuple**\n",
        "\n",
        "**1. Replace the element, replace the last number of each tuple in the list with the given number(N).**"
      ],
      "metadata": {
        "id": "VKQieVCzcW9f"
      }
    },
    {
      "cell_type": "code",
      "source": [
        "num_list = [(10, 20, 30), (1, 2), (5, 10, 15, 45)]\n",
        "\n",
        "n = int(input(\"enter the number should be replace\"))\n",
        "new_list = []\n",
        "for i in num_list:\n",
        "    update = i[:-1] + (n,)\n",
        "    new_list.append(update)\n",
        "print(new_list)"
      ],
      "metadata": {
        "colab": {
          "base_uri": "https://localhost:8080/"
        },
        "id": "d18Hwc1xcxyy",
        "outputId": "321b9a45-ccee-4e30-8686-e8f5f2ddbe50"
      },
      "execution_count": 26,
      "outputs": [
        {
          "output_type": "stream",
          "name": "stdout",
          "text": [
            "enter the number should be replace44\n",
            "[(10, 20, 44), (1, 44), (5, 10, 15, 44)]\n"
          ]
        }
      ]
    },
    {
      "cell_type": "markdown",
      "source": [
        "**2. Remove N in all Tuples.**"
      ],
      "metadata": {
        "id": "9bWPEtEoeoBS"
      }
    },
    {
      "cell_type": "code",
      "source": [
        "num_list = [(1, 2, 3, 4, 5, 6), (2, 4, 6, 8), (1, 3, 5, 7)]\n",
        "\n",
        "number = int(input(\"enter the element that should be removed :\"))\n",
        "new_list = []\n",
        "for i in num_list:\n",
        "    new_tuple = i\n",
        "    if number in i:\n",
        "        index_n = i.index(number)\n",
        "        new_tuple = i[:index_n] + i[index_n+1:]\n",
        "    new_list.append(new_tuple)\n",
        "print(new_list)"
      ],
      "metadata": {
        "colab": {
          "base_uri": "https://localhost:8080/"
        },
        "id": "Rvcq9Xuzc0Cz",
        "outputId": "0fd90f13-c6e2-4a44-8828-aa58d3326091"
      },
      "execution_count": 27,
      "outputs": [
        {
          "output_type": "stream",
          "name": "stdout",
          "text": [
            "enter the element that should be removed :3\n",
            "[(1, 2, 4, 5, 6), (2, 4, 6, 8), (1, 5, 7)]\n"
          ]
        }
      ]
    },
    {
      "cell_type": "markdown",
      "source": [
        "**3. Using the count method**"
      ],
      "metadata": {
        "id": "LY1ui99CfPvg"
      }
    },
    {
      "cell_type": "code",
      "source": [
        "numbers = (1, 2, 2, 3, 4, 2, 5)\n",
        "\n",
        "count_2 = numbers.count(2)\n",
        "print(f\"The number 2 appears {count_2} times in the tuple.\")"
      ],
      "metadata": {
        "colab": {
          "base_uri": "https://localhost:8080/"
        },
        "id": "HrI1wKqbfBDf",
        "outputId": "0ae0676b-0ab0-4242-9df0-47696d388334"
      },
      "execution_count": 6,
      "outputs": [
        {
          "output_type": "stream",
          "name": "stdout",
          "text": [
            "The number 2 appears 3 times in the tuple.\n"
          ]
        }
      ]
    },
    {
      "cell_type": "markdown",
      "source": [
        "**4. using index in tuple**"
      ],
      "metadata": {
        "id": "4btDs0yn6Wxf"
      }
    },
    {
      "cell_type": "code",
      "source": [
        "fruits = (\"apple\", \"banana\", \"cherry\", \"apple\", \"date\")\n",
        "\n",
        "first_index = fruits.index(\"apple\")\n",
        "print(f\"The first occurrence of 'apple' is at index {first_index}.\")\n",
        "\n",
        "cherry_index = fruits.index(\"cherry\")\n",
        "print(f\"The first occurrence of 'cherry' is at index {cherry_index}.\")"
      ],
      "metadata": {
        "colab": {
          "base_uri": "https://localhost:8080/"
        },
        "id": "nIUO7soD1tnU",
        "outputId": "313065bd-0e51-40a4-8345-beef83cb72f5"
      },
      "execution_count": 7,
      "outputs": [
        {
          "output_type": "stream",
          "name": "stdout",
          "text": [
            "The first occurrence of 'apple' is at index 0.\n",
            "The first occurrence of 'cherry' is at index 2.\n"
          ]
        }
      ]
    },
    {
      "cell_type": "markdown",
      "source": [
        "**5.  Analyze a Tuple of Numbers**"
      ],
      "metadata": {
        "id": "3u6aY_QA6x4E"
      }
    },
    {
      "cell_type": "code",
      "source": [
        "numbers = (15, 3, 45, 23, 9, 45)\n",
        "\n",
        "length = len(numbers)\n",
        "maximum = max(numbers)\n",
        "minimum = min(numbers)\n",
        "total_sum = sum(numbers)\n",
        "sorted_numbers = sorted(numbers)\n",
        "\n",
        "print(f\"Original Tuple: {numbers}\")\n",
        "print(f\"Length: {length}\")\n",
        "print(f\"Maximum Value: {maximum}\")\n",
        "print(f\"Minimum Value: {minimum}\")\n",
        "print(f\"Sum: {total_sum}\")\n",
        "print(f\"Sorted: {sorted_numbers}\")"
      ],
      "metadata": {
        "colab": {
          "base_uri": "https://localhost:8080/"
        },
        "id": "nw0JVl-T6egn",
        "outputId": "2b33f4b5-ac53-40ab-c08d-0adb460db760"
      },
      "execution_count": 8,
      "outputs": [
        {
          "output_type": "stream",
          "name": "stdout",
          "text": [
            "Original Tuple: (15, 3, 45, 23, 9, 45)\n",
            "Length: 6\n",
            "Maximum Value: 45\n",
            "Minimum Value: 3\n",
            "Sum: 140\n",
            "Sorted: [3, 9, 15, 23, 45, 45]\n"
          ]
        }
      ]
    },
    {
      "cell_type": "code",
      "source": [],
      "metadata": {
        "id": "XBmlZqEa7BYG"
      },
      "execution_count": null,
      "outputs": []
    },
    {
      "cell_type": "markdown",
      "source": [
        "### **Set**\n",
        "A **set** in Python is an unordered collection of unique elements. It is mutable, meaning elements can be added or removed after creation, but the elements themselves must be immutable (e.g., numbers, strings, or tuples). Sets do not allow duplicate elements, automatically removing any duplicates during creation. Sets are useful for mathematical operations like union, intersection, and difference. They are defined using curly braces `{}` or the `set()` constructor.\n",
        "\n",
        "\n",
        "---\n",
        "\n",
        "\n",
        "### **Set Methods**\n",
        "\n",
        "1. **`add(item)`**: Adds an item to the set.\n",
        "2. **`update(iterable)`**: Adds multiple elements from an iterable to the set.\n",
        "3. **`remove(item)`**: Removes the specified item from the set. Raises a `KeyError` if the item is not found.\n",
        "4. **`discard(item)`**: Removes the specified item from the set without raising an error if the item is not found.\n",
        "5. **`pop()`**: Removes and returns an arbitrary element from the set. Raises a `KeyError` if the set is empty.\n",
        "6. **`clear()`**: Removes all elements from the set.\n",
        "7. **`copy()`**: Returns a shallow copy of the set.\n",
        "8. **`union(*sets)`**: Returns a new set containing all unique elements from the original set and the specified sets.\n",
        "9. **`intersection(*sets)`**: Returns a new set with elements common to the original set and the specified sets.\n",
        "10. **`difference(*sets)`**: Returns a new set with elements in the original set that are not in the specified sets.\n",
        "11. **`symmetric_difference(other_set)`**: Returns a new set with elements in either set but not both.\n",
        "12. **`issubset(other_set)`**: Returns `True` if all elements of the set are in `other_set`.\n",
        "13. **`issuperset(other_set)`**: Returns `True` if the set contains all elements of `other_set`.\n",
        "14. **`isdisjoint(other_set)`**: Returns `True` if the set has no common elements with `other_set`.\n",
        "\n",
        "---\n",
        "\n",
        "### **Built-in Functions for Sets**\n",
        "\n",
        "1. **`len(set)`**: Returns the number of elements in the set.\n",
        "2. **`max(set)`**: Returns the maximum element in the set (for comparable elements).\n",
        "3. **`min(set)`**: Returns the minimum element in the set (for comparable elements).\n",
        "4. **`sum(set)`**: Returns the sum of all numeric elements in the set.\n",
        "5. **`sorted(set)`**: Returns a sorted list of elements from the set.\n",
        "6. **`any(set)`**: Returns `True` if any element in the set is truthy.\n",
        "7. **`all(set)`**: Returns `True` if all elements in the set are truthy.\n",
        "8. **`set(iterable)`**: Converts an iterable (e.g., list or string) into a set."
      ],
      "metadata": {
        "id": "L6pD29pV7HkM"
      }
    },
    {
      "cell_type": "markdown",
      "source": [
        "### **Five simple and meaning full example in python Set**\n",
        "**1. Missing Numbers**"
      ],
      "metadata": {
        "id": "u2AhoyqG8SFs"
      }
    },
    {
      "cell_type": "code",
      "source": [
        "list_a = list(map(int, input(\"Enter numbers separated by spaces: \").split()))\n",
        "\n",
        "max_ele = max(list_a)\n",
        "set_b = set(range(1, max_ele + 1))\n",
        "set_a = set(list_a)\n",
        "result = set_b.difference(set_a)\n",
        "result = sorted(result)\n",
        "print(result)\n"
      ],
      "metadata": {
        "colab": {
          "base_uri": "https://localhost:8080/"
        },
        "id": "-zFamBCA-pz9",
        "outputId": "b597719e-7f2a-4d24-c9af-3b5cbe57704c"
      },
      "execution_count": 9,
      "outputs": [
        {
          "output_type": "stream",
          "name": "stdout",
          "text": [
            "Enter numbers separated by spaces: 2 4 6 1 7 8 10\n",
            "[3, 5, 9]\n"
          ]
        }
      ]
    },
    {
      "cell_type": "markdown",
      "source": [
        "**2. Remove Duplicates**"
      ],
      "metadata": {
        "id": "GMB2zXXb_CGV"
      }
    },
    {
      "cell_type": "code",
      "source": [
        "numbers = list(map(int, input(\"Enter numbers separated by spaces: \").split()))\n",
        "\n",
        "new_set = set(numbers)\n",
        "new_list = sorted(new_set)\n",
        "print(new_list)"
      ],
      "metadata": {
        "colab": {
          "base_uri": "https://localhost:8080/"
        },
        "id": "e0Ckaej0-qaG",
        "outputId": "1720f8e8-23cf-4e10-c8e4-d3e92e85b029"
      },
      "execution_count": 1,
      "outputs": [
        {
          "output_type": "stream",
          "name": "stdout",
          "text": [
            "2 2 3 5 6 7 8 35 46\n",
            "[2, 3, 5, 6, 7, 8, 35, 46]\n"
          ]
        }
      ]
    },
    {
      "cell_type": "markdown",
      "source": [
        "**3. Adding an item to the set**"
      ],
      "metadata": {
        "id": "_fKs5dPVimRa"
      }
    },
    {
      "cell_type": "code",
      "source": [
        "set_a = {\"pencil\"}\n",
        "\n",
        "word = input(\"enter the new word :\")\n",
        "set_a.update([word])\n",
        "\n",
        "print(set_a)"
      ],
      "metadata": {
        "colab": {
          "base_uri": "https://localhost:8080/"
        },
        "id": "mlBu87f4hh-C",
        "outputId": "2ecf6331-374d-45ef-e594-9ec11817ded9"
      },
      "execution_count": 4,
      "outputs": [
        {
          "output_type": "stream",
          "name": "stdout",
          "text": [
            "enter the new word :hello\n",
            "{'hello', 'pencil'}\n"
          ]
        }
      ]
    },
    {
      "cell_type": "markdown",
      "source": [
        "**4. Removing Common Elements Between Two Sets.**"
      ],
      "metadata": {
        "id": "yaNZH79vk-jE"
      }
    },
    {
      "cell_type": "code",
      "source": [
        "set1 = set(map(int, input(\"Enter elements of the first set, separated by spaces: \").split()))\n",
        "set2 = set(map(int, input(\"Enter elements of the second set, separated by spaces: \").split()))\n",
        "\n",
        "unique_elements = set1.symmetric_difference(set2)\n",
        "print(f\"Unique elements: {unique_elements}\")"
      ],
      "metadata": {
        "colab": {
          "base_uri": "https://localhost:8080/"
        },
        "id": "EEa4xp7aivXz",
        "outputId": "2353d1ed-e7da-4135-a7fc-cf6826ec143d"
      },
      "execution_count": 7,
      "outputs": [
        {
          "output_type": "stream",
          "name": "stdout",
          "text": [
            "Enter elements of the first set, separated by spaces: 5 4 6 3 5 6 3\n",
            "Enter elements of the second set, separated by spaces: 44 66 323 66 77 8\n",
            "Unique elements: {66, 323, 3, 4, 5, 6, 8, 77, 44}\n"
          ]
        }
      ]
    },
    {
      "cell_type": "markdown",
      "source": [
        "**5. Removing Stop Words From Text**"
      ],
      "metadata": {
        "id": "7Gpjp6VJmcYK"
      }
    },
    {
      "cell_type": "code",
      "source": [
        "text = \"Python is a powerful and versatile programming language\"\n",
        "stop_words = {\"is\", \"a\", \"and\"}\n",
        "words = set(text.split())\n",
        "\n",
        "filtered_words = words.difference(stop_words)\n",
        "print(f\"Filtered words: {filtered_words}\")"
      ],
      "metadata": {
        "colab": {
          "base_uri": "https://localhost:8080/"
        },
        "id": "PQGb5SXulJcY",
        "outputId": "f1a3d8fe-dbec-4f59-999c-29f6ef44a373"
      },
      "execution_count": 8,
      "outputs": [
        {
          "output_type": "stream",
          "name": "stdout",
          "text": [
            "Filtered words: {'Python', 'versatile', 'powerful', 'language', 'programming'}\n"
          ]
        }
      ]
    },
    {
      "cell_type": "code",
      "source": [],
      "metadata": {
        "id": "D24Hb6J_mW68"
      },
      "execution_count": null,
      "outputs": []
    },
    {
      "cell_type": "markdown",
      "source": [
        "### **Dictionaries**\n",
        "### **Dictionaries in Python**\n",
        "\n",
        "A dictionary in Python is an **unordered, mutable, and indexed collection** of items. Each item in a dictionary is stored as a key-value pair, where:\n",
        "\n",
        "- **Keys**: Must be unique, immutable, and of a hashable data type (e.g., strings, numbers, tuples).\n",
        "- **Values**: Can be of any data type and can be duplicated.\n",
        "---\n",
        "### **Dictionary Methods - Descriptions**\n",
        "\n",
        "1. **`clear()`**: Removes all key-value pairs from the dictionary.  \n",
        "2. **`get(key[, default])`**: Retrieves the value for the given key; returns the `default` value if the key is not found.  \n",
        "3. **`pop(key[, default])`**: Removes the key-value pair for the specified key and returns the value; returns `default` if the key is not found.  \n",
        "4. **`popitem()`**: Removes and returns the last inserted key-value pair as a tuple (key, value).  \n",
        "5. **`keys()`**: Returns a view object displaying all the keys in the dictionary.  \n",
        "6. **`values()`**: Returns a view object displaying all the values in the dictionary.  \n",
        "7. **`items()`**: Returns a view object displaying all key-value pairs as tuples.  \n",
        "8. **`update([other])`**: Updates the dictionary with key-value pairs from another dictionary or iterable.  \n",
        "9. **`setdefault(key[, default])`**: Returns the value of the specified key; if the key doesn’t exist, inserts it with the `default` value.  \n",
        "10. **`copy()`**: Returns a shallow copy of the dictionary.  \n",
        "11. **`fromkeys(iterable[, value])`**: Creates a new dictionary with keys from the iterable and values set to `value`.  \n",
        "\n",
        "---\n",
        "\n",
        "### **Built-in Functions for Dictionaries - Descriptions**\n",
        "\n",
        "1. **`len(dictionary)`**: Returns the total number of key-value pairs in the dictionary.  \n",
        "2. **`sorted(dictionary)`**: Returns a sorted list of keys from the dictionary.  \n",
        "3. **`any(dictionary)`**: Returns `True` if any key in the dictionary is truthy.  \n",
        "4. **`all(dictionary)`**: Returns `True` if all keys in the dictionary are truthy.  \n",
        "5. **`max(dictionary)`**: Returns the maximum key in the dictionary based on sorting.  \n",
        "6. **`min(dictionary)`**: Returns the minimum key in the dictionary based on sorting.  \n",
        "\n"
      ],
      "metadata": {
        "id": "jdlxG15VmlA2"
      }
    },
    {
      "cell_type": "markdown",
      "source": [
        "### **Five simple and meaning full example in python Dictionaries**\n",
        "1. Add an key"
      ],
      "metadata": {
        "id": "a0Y414tSn1cC"
      }
    },
    {
      "cell_type": "code",
      "source": [
        "students_dict = {\n",
        "    \"Ram\": \"Cricket\",\n",
        "    \"Naresh\": \"Football\",\n",
        "    \"Vani\": \"Tennis\",\n",
        "    \"Rahim\": \"Cricket\"\n",
        "}\n",
        "key, value = input(\"Enter the student's name and their favorite sport, separated by a space: \").split()\n",
        "students_dict[key] = value\n",
        "print(students_dict)\n"
      ],
      "metadata": {
        "colab": {
          "base_uri": "https://localhost:8080/"
        },
        "id": "yAwtvbEaoLjx",
        "outputId": "696c7713-ce6d-4729-e9fb-bb3e4018aa5b"
      },
      "execution_count": 10,
      "outputs": [
        {
          "output_type": "stream",
          "name": "stdout",
          "text": [
            "Enter the student's name and their favorite sport, separated by a space: eswar chess\n",
            "{'Ram': 'Cricket', 'Naresh': 'Football', 'Vani': 'Tennis', 'Rahim': 'Cricket', 'eswar': 'chess'}\n"
          ]
        }
      ]
    },
    {
      "cell_type": "markdown",
      "source": [
        "**2. Remove a key**"
      ],
      "metadata": {
        "id": "Mb7_54HjjY1u"
      }
    },
    {
      "cell_type": "code",
      "source": [
        "students_dict = {\n",
        "    \"Ram\": \"Cricket\",\n",
        "    \"Naresh\": \"Football\",\n",
        "    \"Vani\": \"Tennis\",\n",
        "    \"Rahim\": \"Cricket\",\n",
        "    \"Deepak\": \"Boxing\"\n",
        "}\n",
        "key = input(\"enter an key that need to remove:\")\n",
        "del students_dict[key]\n",
        "print(students_dict)"
      ],
      "metadata": {
        "colab": {
          "base_uri": "https://localhost:8080/"
        },
        "id": "i8lK5vmBjfia",
        "outputId": "cd6b2ca7-df85-4800-ad28-6e8041d7b628"
      },
      "execution_count": 1,
      "outputs": [
        {
          "output_type": "stream",
          "name": "stdout",
          "text": [
            "enter an key that need to remove:Ram\n",
            "{'Naresh': 'Football', 'Vani': 'Tennis', 'Rahim': 'Cricket', 'Deepak': 'Boxing'}\n"
          ]
        }
      ]
    },
    {
      "cell_type": "markdown",
      "source": [
        "**3. sports Data**"
      ],
      "metadata": {
        "id": "2zuY26rqkE9F"
      }
    },
    {
      "cell_type": "code",
      "source": [
        "students_dict = {\n",
        "    \"Ram\": \"Cricket\",\n",
        "    \"Naresh\": \"Football\",\n",
        "    \"Vani\": \"Tennis\",\n",
        "    \"Rahim\": \"Cricket\"\n",
        "}\n",
        "\n",
        "n = int(input(\"enter the number of keys should be added:\"))\n",
        "for i in range(n):\n",
        "    key, value = input(\"Enter the key and value pairs, separated by a space:\").split()\n",
        "    students_dict[key] = value\n",
        "print(students_dict)"
      ],
      "metadata": {
        "colab": {
          "base_uri": "https://localhost:8080/"
        },
        "id": "gD0nNBNbjxTu",
        "outputId": "188d81f1-3c51-46d7-a3da-436ddfb5a54b"
      },
      "execution_count": 2,
      "outputs": [
        {
          "output_type": "stream",
          "name": "stdout",
          "text": [
            "enter the number of keys should be added:2\n",
            "Enter the key and value pairs, separated by a space:sureesh chess\n",
            "Enter the key and value pairs, separated by a space:ashok football\n",
            "{'Ram': 'Cricket', 'Naresh': 'Football', 'Vani': 'Tennis', 'Rahim': 'Cricket', 'sureesh': 'chess', 'ashok': 'football'}\n"
          ]
        }
      ]
    },
    {
      "cell_type": "markdown",
      "source": [
        "**4. Squares **"
      ],
      "metadata": {
        "id": "EFposE4oklwg"
      }
    },
    {
      "cell_type": "code",
      "source": [
        "n = int(input(\"Enter the number of squares you need to print:\"))\n",
        "dectonery = {\n",
        "}\n",
        "for i in range(1,n+1):\n",
        "    dectonery[i] = i*i\n",
        "print(dectonery)"
      ],
      "metadata": {
        "colab": {
          "base_uri": "https://localhost:8080/"
        },
        "id": "4mkOGuKbkbTc",
        "outputId": "e22d0c79-205d-4f0a-dc15-e7c7be44816d"
      },
      "execution_count": 3,
      "outputs": [
        {
          "output_type": "stream",
          "name": "stdout",
          "text": [
            "5\n",
            "{1: 1, 2: 4, 3: 9, 4: 16, 5: 25}\n"
          ]
        }
      ]
    },
    {
      "cell_type": "markdown",
      "source": [
        "**5. Student Id Map**"
      ],
      "metadata": {
        "id": "ERwcvtY1lBSS"
      }
    },
    {
      "cell_type": "code",
      "source": [
        "def adding_name_id(student_names, id_values):\n",
        "    dect = {}\n",
        "    for i in range(len(student_names)):\n",
        "        key = student_names[i]\n",
        "        value = id_values[i]\n",
        "        dect[key] = value\n",
        "    return dect\n",
        "student_names = input(\"Enter the student names, separated by a space::\").split(\" \")\n",
        "id_values = input(\"Enter the student id's, separated by a space: \").split(\" \")\n",
        "student_dect = adding_name_id(student_names, id_values)\n",
        "student_dect = student_dect.items()\n",
        "student_dect = sorted(student_dect)\n",
        "for i in student_dect:\n",
        "    print(*i)\n"
      ],
      "metadata": {
        "colab": {
          "base_uri": "https://localhost:8080/"
        },
        "id": "a_gg7asKk1s4",
        "outputId": "e462fd8b-11cf-49a6-bd11-e878a6ae1f9f"
      },
      "execution_count": 5,
      "outputs": [
        {
          "output_type": "stream",
          "name": "stdout",
          "text": [
            "Enter the student names, separated by a space::eswar raju rajesh\n",
            "Enter the student id's, separated by a space: 123 456 768\n",
            "eswar 123\n",
            "rajesh 768\n",
            "raju 456\n"
          ]
        }
      ]
    }
  ]
}