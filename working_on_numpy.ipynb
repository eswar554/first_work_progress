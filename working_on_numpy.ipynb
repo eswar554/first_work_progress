{
  "nbformat": 4,
  "nbformat_minor": 0,
  "metadata": {
    "colab": {
      "provenance": [],
      "authorship_tag": "ABX9TyO4scazqcV0taE9VRlXzamM",
      "include_colab_link": true
    },
    "kernelspec": {
      "name": "python3",
      "display_name": "Python 3"
    },
    "language_info": {
      "name": "python"
    }
  },
  "cells": [
    {
      "cell_type": "markdown",
      "metadata": {
        "id": "view-in-github",
        "colab_type": "text"
      },
      "source": [
        "<a href=\"https://colab.research.google.com/github/eswar554/first_work_progress/blob/main/working_on_numpy.ipynb\" target=\"_parent\"><img src=\"https://colab.research.google.com/assets/colab-badge.svg\" alt=\"Open In Colab\"/></a>"
      ]
    },
    {
      "cell_type": "markdown",
      "source": [
        "### 1. Chessboard Pattern"
      ],
      "metadata": {
        "id": "X5cd-4UEFOao"
      }
    },
    {
      "cell_type": "code",
      "source": [
        "import numpy as np\n",
        "\n",
        "def chessboard_pattern(n):\n",
        "    if n < 2:\n",
        "        raise ValueError(\"The size of the chessboard must be >= 2\")\n",
        "\n",
        "    chessboard = np.zeros((n, n), dtype=int)\n",
        "\n",
        "    chessboard[::2, ::2] = 1\n",
        "    chessboard[1::2, 1::2] = 1\n",
        "\n",
        "    return chessboard\n",
        "n = 8\n",
        "print(chessboard_pattern(n))"
      ],
      "metadata": {
        "colab": {
          "base_uri": "https://localhost:8080/"
        },
        "id": "aZT_mQBRFTAl",
        "outputId": "196f2f88-770d-4857-a138-e8aefb9f288b"
      },
      "execution_count": 14,
      "outputs": [
        {
          "output_type": "stream",
          "name": "stdout",
          "text": [
            "[[1 0 1 0 1 0 1 0]\n",
            " [0 1 0 1 0 1 0 1]\n",
            " [1 0 1 0 1 0 1 0]\n",
            " [0 1 0 1 0 1 0 1]\n",
            " [1 0 1 0 1 0 1 0]\n",
            " [0 1 0 1 0 1 0 1]\n",
            " [1 0 1 0 1 0 1 0]\n",
            " [0 1 0 1 0 1 0 1]]\n"
          ]
        }
      ]
    },
    {
      "cell_type": "markdown",
      "source": [
        "### 2. Y Pattern\n"
      ],
      "metadata": {
        "id": "9scDLWOpFUL7"
      }
    },
    {
      "cell_type": "code",
      "source": [
        "def Y_pattern(n):\n",
        "    result = np.zeros((n, n), dtype=int)\n",
        "\n",
        "    for i in range(n // 2):\n",
        "        result[i, i] = 1\n",
        "        result[i, n - i - 1] = 1\n",
        "\n",
        "    for i in range(n // 2, n):\n",
        "        result[i, n // 2] = 1\n",
        "    return result\n",
        "print(Y_pattern(n))"
      ],
      "metadata": {
        "colab": {
          "base_uri": "https://localhost:8080/"
        },
        "id": "pMsrJqnv4PUZ",
        "outputId": "01325563-df83-4ec3-8f16-502ee03ac79b"
      },
      "execution_count": 12,
      "outputs": [
        {
          "output_type": "stream",
          "name": "stdout",
          "text": [
            "[[1 0 0 0 0 0 1]\n",
            " [0 1 0 0 0 1 0]\n",
            " [0 0 1 0 1 0 0]\n",
            " [0 0 0 1 0 0 0]\n",
            " [0 0 0 1 0 0 0]\n",
            " [0 0 0 1 0 0 0]\n",
            " [0 0 0 1 0 0 0]]\n"
          ]
        }
      ]
    },
    {
      "cell_type": "markdown",
      "source": [
        "### 3. T Pattern\n"
      ],
      "metadata": {
        "id": "9Nm27HRCFanC"
      }
    },
    {
      "cell_type": "code",
      "source": [
        "def T_pattern(num_rows, num_cols):\n",
        "    result = np.zeros((num_rows, num_cols), dtype=int)\n",
        "\n",
        "    result[0, :] = 1\n",
        "\n",
        "    center_col = num_cols // 2\n",
        "    result[:, center_col] = 1\n",
        "\n",
        "    return result\n",
        "num_rows = 5\n",
        "num_cols = 7\n",
        "print(T_pattern(num_rows, num_cols))"
      ],
      "metadata": {
        "colab": {
          "base_uri": "https://localhost:8080/"
        },
        "id": "VMm3Pj7dEJl3",
        "outputId": "1ff505a0-6354-43b9-bc4e-981a81580009"
      },
      "execution_count": 15,
      "outputs": [
        {
          "output_type": "stream",
          "name": "stdout",
          "text": [
            "[[1 1 1 1 1 1 1]\n",
            " [0 0 0 1 0 0 0]\n",
            " [0 0 0 1 0 0 0]\n",
            " [0 0 0 1 0 0 0]\n",
            " [0 0 0 1 0 0 0]]\n"
          ]
        }
      ]
    },
    {
      "cell_type": "markdown",
      "source": [
        "### 4. Closed Pattern\n"
      ],
      "metadata": {
        "id": "Up41W3D-GfhR"
      }
    },
    {
      "cell_type": "code",
      "source": [
        "def closed_pattern(num_rows, num_cols):\n",
        "    result = np.zeros((num_rows, num_cols), dtype=int)\n",
        "\n",
        "    result[0, :] = 1\n",
        "    result[-1, :] = 1\n",
        "    result[:, 0] = 1\n",
        "    result[:, -1] = 1\n",
        "\n",
        "    return result\n",
        "\n",
        "num_rows = 5\n",
        "num_cols = 7\n",
        "print(closed_pattern(num_rows, num_cols))"
      ],
      "metadata": {
        "colab": {
          "base_uri": "https://localhost:8080/"
        },
        "id": "llqxMP4uEqh7",
        "outputId": "ce2382a8-f7c1-4b46-bcc6-a66b0ac7fa0f"
      },
      "execution_count": 17,
      "outputs": [
        {
          "output_type": "stream",
          "name": "stdout",
          "text": [
            "[[1 1 1 1 1 1 1]\n",
            " [1 0 0 0 0 0 1]\n",
            " [1 0 0 0 0 0 1]\n",
            " [1 0 0 0 0 0 1]\n",
            " [1 1 1 1 1 1 1]]\n"
          ]
        }
      ]
    },
    {
      "cell_type": "markdown",
      "source": [
        "### 5. Plus Pattern\n"
      ],
      "metadata": {
        "id": "xW8p2tIxGkai"
      }
    },
    {
      "cell_type": "code",
      "source": [
        "def plus_pattern(n):\n",
        "    result = np.zeros((n, n), dtype=int)\n",
        "\n",
        "    center = n // 2\n",
        "    result[center, :] = 1\n",
        "\n",
        "    result[:, center] = 1\n",
        "\n",
        "    return result\n",
        "\n",
        "n = 5\n",
        "print(plus_pattern(n))\n"
      ],
      "metadata": {
        "colab": {
          "base_uri": "https://localhost:8080/"
        },
        "id": "rTZ8yiysGTPm",
        "outputId": "89ced521-1829-4bc1-fbcf-98de34d9a45b"
      },
      "execution_count": 18,
      "outputs": [
        {
          "output_type": "stream",
          "name": "stdout",
          "text": [
            "[[0 0 1 0 0]\n",
            " [0 0 1 0 0]\n",
            " [1 1 1 1 1]\n",
            " [0 0 1 0 0]\n",
            " [0 0 1 0 0]]\n"
          ]
        }
      ]
    },
    {
      "cell_type": "markdown",
      "source": [
        "### 6. Standardization\n"
      ],
      "metadata": {
        "id": "GyO5XgUTHDxs"
      }
    },
    {
      "cell_type": "code",
      "source": [
        "import numpy as np\n",
        "\n",
        "def standardize(array_2D):\n",
        "    mean = np.mean(array_2D, axis=0)\n",
        "    std = np.std(array_2D, axis=0)\n",
        "\n",
        "    standardized_array = (array_2D - mean) / std\n",
        "\n",
        "    return standardized_array\n",
        "\n",
        "array_2D = np.array([[1.0, 2.0, 3.0],\n",
        "                      [4.0, 5.0, 6.0],\n",
        "                      [7.0, 8.0, 9.0]])\n",
        "print(standardize(array_2D))"
      ],
      "metadata": {
        "colab": {
          "base_uri": "https://localhost:8080/"
        },
        "id": "BrHfMyJeG94y",
        "outputId": "7224a8fd-5440-4850-e50a-bf6fa3a27759"
      },
      "execution_count": 19,
      "outputs": [
        {
          "output_type": "stream",
          "name": "stdout",
          "text": [
            "[[-1.22474487 -1.22474487 -1.22474487]\n",
            " [ 0.          0.          0.        ]\n",
            " [ 1.22474487  1.22474487  1.22474487]]\n"
          ]
        }
      ]
    },
    {
      "cell_type": "markdown",
      "source": [
        "### 7. Normalisation\n"
      ],
      "metadata": {
        "id": "Nj796yhTH4e3"
      }
    },
    {
      "cell_type": "code",
      "source": [
        "def normalise(array_2D):\n",
        "    mean = np.mean(array_2D, axis=0)\n",
        "    max_val = np.max(array_2D, axis=0)\n",
        "    min_val = np.min(array_2D, axis=0)\n",
        "\n",
        "    normalised_array = (array_2D - mean) / (max_val - min_val)\n",
        "\n",
        "    return normalised_array\n",
        "\n",
        "array_2D = np.array([[1.0, 2.0, 3.0],\n",
        "                      [4.0, 5.0, 6.0],\n",
        "                      [7.0, 8.0, 9.0]])\n",
        "print(normalise(array_2D))\n"
      ],
      "metadata": {
        "colab": {
          "base_uri": "https://localhost:8080/"
        },
        "id": "dkCgRaWSHVZo",
        "outputId": "4b522ae2-a4e0-47e2-897b-13685d6ea799"
      },
      "execution_count": 22,
      "outputs": [
        {
          "output_type": "stream",
          "name": "stdout",
          "text": [
            "[[-0.5 -0.5 -0.5]\n",
            " [ 0.   0.   0. ]\n",
            " [ 0.5  0.5  0.5]]\n"
          ]
        }
      ]
    },
    {
      "cell_type": "markdown",
      "source": [
        "### 8. Minkowski Distance between two colored images\n"
      ],
      "metadata": {
        "id": "xZinUTVDMt1Z"
      }
    },
    {
      "cell_type": "markdown",
      "source": [],
      "metadata": {
        "id": "vMurf270L-sG"
      }
    },
    {
      "cell_type": "code",
      "source": [
        "def minkowski_distance_between_two_images(image_1, image_2, n):\n",
        "    grayscale_image_1 = np.mean(image_1, axis=2)\n",
        "    grayscale_image_2 = np.mean(image_2, axis=2)\n",
        "\n",
        "    difference = np.abs(grayscale_image_1 - grayscale_image_2)\n",
        "    minkowski_distance = np.sum(difference**n)**(1/n)\n",
        "\n",
        "    return minkowski_distance\n",
        "\n",
        "image_1 = np.random.randint(0, 256, (4, 4, 3))  #image data\n",
        "image_2 = np.random.randint(0, 256, (4, 4, 3))  # image data\n",
        "n = 3  # Minkowski distance order\n",
        "print(minkowski_distance_between_two_images(image_1, image_2, n))"
      ],
      "metadata": {
        "colab": {
          "base_uri": "https://localhost:8080/"
        },
        "id": "k81tts5IIEfY",
        "outputId": "95eddeb2-1c37-4cbd-c4e3-1ab884d81c45"
      },
      "execution_count": 24,
      "outputs": [
        {
          "output_type": "stream",
          "name": "stdout",
          "text": [
            "180.76217775710208\n"
          ]
        }
      ]
    },
    {
      "cell_type": "code",
      "source": [],
      "metadata": {
        "id": "kxgCaX6zMPx7"
      },
      "execution_count": null,
      "outputs": []
    }
  ]
}